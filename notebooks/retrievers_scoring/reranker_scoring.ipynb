{
 "cells": [
  {
   "cell_type": "code",
   "execution_count": 1,
   "id": "1eff159a",
   "metadata": {},
   "outputs": [],
   "source": [
    "from sentence_transformers import SentenceTransformer\n",
    "from fastembed import SparseTextEmbedding\n",
    "import pandas as pd\n",
    "from qdrant_client import QdrantClient, models\n",
    "from tqdm.notebook import tqdm\n",
    "import numpy as np\n",
    "#evaluate(qrels, dense_run, metrics=[\"precision@10\", \"mrr@10\"], make_comparable=True)\n",
    "from fastembed import TextEmbedding, SparseTextEmbedding, LateInteractionTextEmbedding\n"
   ]
  },
  {
   "cell_type": "code",
   "execution_count": 40,
   "id": "6d42a00a",
   "metadata": {},
   "outputs": [],
   "source": [
    "dataset = pd.read_parquet(\n",
    "            'hf://datasets/neural-bridge/rag-dataset-12000/data/train-00000-of-00001-9df3a936e1f63191.parquet'\n",
    "        ).dropna().reset_index(drop=True)"
   ]
  },
  {
   "cell_type": "code",
   "execution_count": 34,
   "id": "1a102ee2",
   "metadata": {},
   "outputs": [],
   "source": [
    "client = QdrantClient()\n",
    "dataset = pd.read_parquet(\n",
    "            'hf://datasets/neural-bridge/rag-dataset-12000/data/train-00000-of-00001-9df3a936e1f63191.parquet'\n",
    "        ).dropna().reset_index(drop=True)\n",
    "load_batch_size = 16,\n",
    "ef_construct = 100,\n",
    "m = 16,\n",
    "full_scan_threshold = 10,\n",
    "rerank_model_name=\"colbert-ir/colbertv2.0\",\n",
    "dense_model_name=\"sentence-transformers/all-MiniLM-L6-v2\",\n",
    "sparse_model_name = 'Qdrant/bm25',\n",
    "device=\"cpu\",\n",
    "dense_model = TextEmbedding(\"sentence-transformers/all-MiniLM-L6-v2\")\n",
    "sparse_model = SparseTextEmbedding('Qdrant/bm25')\n",
    "late_interaction_embedding_model = LateInteractionTextEmbedding(\"colbert-ir/colbertv2.0\")"
   ]
  },
  {
   "cell_type": "code",
   "execution_count": 3,
   "id": "7355cd93",
   "metadata": {},
   "outputs": [
    {
     "data": {
      "text/plain": [
       "512"
      ]
     },
     "execution_count": 3,
     "metadata": {},
     "output_type": "execute_result"
    }
   ],
   "source": [
    "len(list(late_interaction_embedding_model.passage_embed(dataset[\"context\"][0:1]))[0])"
   ]
  },
  {
   "cell_type": "code",
   "execution_count": 35,
   "id": "bb201178",
   "metadata": {},
   "outputs": [],
   "source": [
    "dataset=dataset[:1000]"
   ]
  },
  {
   "cell_type": "code",
   "execution_count": 5,
   "id": "840abb20",
   "metadata": {},
   "outputs": [
    {
     "data": {
      "text/plain": [
       "0    Caption: Tasmanian berry grower Nic Hansen sho...\n",
       "Name: context, dtype: object"
      ]
     },
     "execution_count": 5,
     "metadata": {},
     "output_type": "execute_result"
    }
   ],
   "source": [
    "dataset[\"context\"][0:1]"
   ]
  },
  {
   "cell_type": "code",
   "execution_count": 43,
   "id": "bcd9b305",
   "metadata": {},
   "outputs": [
    {
     "data": {
      "application/vnd.jupyter.widget-view+json": {
       "model_id": "bb1836519b0b4214aa32a20257843f82",
       "version_major": 2,
       "version_minor": 0
      },
      "text/plain": [
       "  0%|          | 0/600 [00:00<?, ?it/s]"
      ]
     },
     "metadata": {},
     "output_type": "display_data"
    }
   ],
   "source": [
    "if client.collection_exists(collection_name=\"test\"):\n",
    "    client.delete_collection(collection_name=\"test\")\n",
    "client.create_collection(\"test\",\n",
    "            vectors_config={\n",
    "                \"all-MiniLM-L6-v2\": models.VectorParams(\n",
    "                    size=384,\n",
    "                    distance=models.Distance.COSINE,\n",
    "                ),\n",
    "                \"colbertv2.0\": models.VectorParams(\n",
    "                    size=128,\n",
    "                    distance=models.Distance.COSINE,\n",
    "                    multivector_config=models.MultiVectorConfig(\n",
    "                        comparator=models.MultiVectorComparator.MAX_SIM,\n",
    "                    )\n",
    "                ),\n",
    "            },\n",
    "            sparse_vectors_config={\n",
    "                \"bm25\": models.SparseVectorParams(\n",
    "                    modifier=models.Modifier.IDF,\n",
    "                )\n",
    "            }\n",
    "        )\n",
    "\n",
    "\n",
    "load_batch_size = 16  \n",
    "\n",
    "for i in tqdm(range(len(dataset) // load_batch_size + 1)):\n",
    "    start_idx = i * load_batch_size\n",
    "    end_idx = (i + 1) * load_batch_size\n",
    "    row = dataset.iloc[start_idx:end_idx] \n",
    "\n",
    "    dense_embeddings = list(dense_model.passage_embed(row[\"context\"].values))\n",
    "    bm25_embeddings = list(sparse_model.passage_embed(row[\"context\"].values))\n",
    "    late_interaction_embeddings = list(late_interaction_embedding_model.passage_embed(row[\"context\"].values))\n",
    "\n",
    "    client.upload_points(\n",
    "        \"test\",\n",
    "        points=[\n",
    "            models.PointStruct(\n",
    "                id=int(id_),\n",
    "                vector={\n",
    "                    \"all-MiniLM-L6-v2\": dense_embeddings[i],\n",
    "                    \"bm25\": bm25_embeddings[i].as_object(),\n",
    "                    \"colbertv2.0\": late_interaction_embeddings[i],\n",
    "                },\n",
    "                payload={\n",
    "                    \"_id\": i,\n",
    "                    \"text\": row[\"context\"][id_],\n",
    "                }\n",
    "            ) for i, id_ in enumerate(row.index)  \n",
    "        ],\n",
    "        batch_size=load_batch_size,\n",
    "    )"
   ]
  },
  {
   "cell_type": "code",
   "execution_count": null,
   "id": "6f642387",
   "metadata": {},
   "outputs": [
    {
     "data": {
      "application/vnd.jupyter.widget-view+json": {
       "model_id": "77160dcb42b741289d02a8899519fcc8",
       "version_major": 2,
       "version_minor": 0
      },
      "text/plain": [
       "  0%|          | 0/9598 [00:00<?, ?it/s]"
      ]
     },
     "metadata": {},
     "output_type": "display_data"
    }
   ],
   "source": [
    "dense_queries = list(dense_model.passage_embed(dataset['question'], show_progress_bar=True, batch_size=load_batch_size))\n",
    "sparse_queries = list(sparse_model.passage_embed(dataset['question'], show_progress_bar=True, batch_size=load_batch_size))\n",
    "rerank_queries = list(late_interaction_embedding_model.passage_embed(dataset['question'], show_progress_bar=True, batch_size=load_batch_size))\n",
    "search_results = []\n",
    "\n",
    "dense_queries = list(dense_model.passage_embed(\n",
    "    dataset['question'], \n",
    "    show_progress_bar=True, \n",
    "    batch_size=load_batch_size\n",
    "))\n",
    "sparse_queries = list(sparse_model.passage_embed(\n",
    "    dataset['question'], \n",
    "    show_progress_bar=True, \n",
    "    batch_size=load_batch_size\n",
    "))\n",
    "rerank_queries = list(late_interaction_embedding_model.passage_embed(\n",
    "    dataset['question'], \n",
    "    show_progress_bar=True, \n",
    "    batch_size=load_batch_size\n",
    "))\n",
    "\n",
    "run_dict = {}\n",
    "\n",
    "for query_idx in tqdm(range(len(dense_queries))):\n",
    "    query_id = str(query_idx)\n",
    "    \n",
    "    dense_query_vector = dense_queries[query_idx]\n",
    "    sparse_query_vector = sparse_queries[query_idx]\n",
    "    late_query_vector = rerank_queries[query_idx]\n",
    "    prefetch = [\n",
    "        models.Prefetch(\n",
    "            query=dense_query_vector,\n",
    "            using=\"all-MiniLM-L6-v2\", \n",
    "            limit=20\n",
    "        ),\n",
    "        models.Prefetch(\n",
    "            query=models.SparseVector(**sparse_query_vector.as_object()),\n",
    "            using=\"bm25\",            \n",
    "            limit=20\n",
    "        )\n",
    "    ]\n",
    "    results = client.query_points(\n",
    "        \"test\",              \n",
    "        prefetch=prefetch,      \n",
    "        query=late_query_vector, \n",
    "        using=\"colbertv2.0\",     \n",
    "        with_payload=False,\n",
    "        limit=20                 \n",
    "    )\n",
    "    \n",
    "    run_dict[query_id] = {\n",
    "        str(point.id): point.score\n",
    "        for point in results.points\n",
    "    }"
   ]
  },
  {
   "cell_type": "code",
   "execution_count": null,
   "id": "f33ddfc9",
   "metadata": {},
   "outputs": [
    {
     "name": "stdout",
     "output_type": "stream",
     "text": [
      "Recall@1: 0.9061\n",
      "Recall@2: 0.9331\n",
      "Recall@3: 0.9437\n",
      "Recall@5: 0.9543\n",
      "Recall@10: 0.9642\n",
      "Recall@20: 0.9709\n"
     ]
    }
   ],
   "source": [
    "import numpy as np\n",
    "\n",
    "results = run_dict\n",
    "\n",
    "correct_at_1 = 0\n",
    "correct_at_5 = 0\n",
    "correct_at_2=0\n",
    "correct_at_3=0\n",
    "correct_at_10 = 0\n",
    "correct_at_20=0\n",
    "total_queries = len(results)\n",
    "\n",
    "for query_id, retrieved_items in results.items():\n",
    "    retrieved_ids = list(retrieved_items.keys())\n",
    "    \n",
    "    if query_id in retrieved_ids[:1]:\n",
    "        correct_at_1 += 1\n",
    "    if query_id in retrieved_ids[:2]:\n",
    "        correct_at_2 += 1\n",
    "    \n",
    "    if query_id in retrieved_ids[:3]:\n",
    "        correct_at_3 += 1\n",
    "    if query_id in retrieved_ids[:5]:\n",
    "        correct_at_5 += 1\n",
    "    \n",
    "    if query_id in retrieved_ids[:10]:\n",
    "        correct_at_10 += 1\n",
    "    if query_id in retrieved_ids[:20]:\n",
    "        correct_at_20 += 1\n",
    "\n",
    "\n",
    "recall_at_1 = correct_at_1 / total_queries\n",
    "recall_at_2 = correct_at_2 / total_queries\n",
    "recall_at_3 = correct_at_3 / total_queries\n",
    "recall_at_5 = correct_at_5 / total_queries\n",
    "recall_at_10 = correct_at_10 / total_queries\n",
    "recall_at_20 = correct_at_20 / total_queries\n",
    "\n",
    "print(f\"Recall@1: {recall_at_1:.4f}\")\n",
    "print(f\"Recall@2: {recall_at_2:.4f}\")\n",
    "print(f\"Recall@3: {recall_at_3:.4f}\")\n",
    "print(f\"Recall@5: {recall_at_5:.4f}\")\n",
    "print(f\"Recall@10: {recall_at_10:.4f}\")\n",
    "print(f\"Recall@20: {recall_at_20:.4f}\")"
   ]
  },
  {
   "cell_type": "code",
   "execution_count": 64,
   "id": "43e98ec4",
   "metadata": {},
   "outputs": [],
   "source": [
    "metrics_dict = {\n",
    "            'recall@1': recall_at_1,\n",
    "            'recall@2': recall_at_2,\n",
    "            'recall@3': recall_at_3,\n",
    "            'recall@5': recall_at_5,\n",
    "            'recall@10': recall_at_10,\n",
    "            'recall@20': recall_at_20\n",
    "        }\n",
    "metric_df = pd.DataFrame([metrics_dict])"
   ]
  },
  {
   "cell_type": "code",
   "execution_count": 65,
   "id": "48c21da3",
   "metadata": {},
   "outputs": [
    {
     "data": {
      "text/html": [
       "<div>\n",
       "<style scoped>\n",
       "    .dataframe tbody tr th:only-of-type {\n",
       "        vertical-align: middle;\n",
       "    }\n",
       "\n",
       "    .dataframe tbody tr th {\n",
       "        vertical-align: top;\n",
       "    }\n",
       "\n",
       "    .dataframe thead th {\n",
       "        text-align: right;\n",
       "    }\n",
       "</style>\n",
       "<table border=\"1\" class=\"dataframe\">\n",
       "  <thead>\n",
       "    <tr style=\"text-align: right;\">\n",
       "      <th></th>\n",
       "      <th>recall@1</th>\n",
       "      <th>recall@2</th>\n",
       "      <th>recall@3</th>\n",
       "      <th>recall@5</th>\n",
       "      <th>recall@10</th>\n",
       "      <th>recall@20</th>\n",
       "    </tr>\n",
       "  </thead>\n",
       "  <tbody>\n",
       "    <tr>\n",
       "      <th>0</th>\n",
       "      <td>0.906126</td>\n",
       "      <td>0.933111</td>\n",
       "      <td>0.943738</td>\n",
       "      <td>0.954261</td>\n",
       "      <td>0.964159</td>\n",
       "      <td>0.970931</td>\n",
       "    </tr>\n",
       "  </tbody>\n",
       "</table>\n",
       "</div>"
      ],
      "text/plain": [
       "   recall@1  recall@2  recall@3  recall@5  recall@10  recall@20\n",
       "0  0.906126  0.933111  0.943738  0.954261   0.964159   0.970931"
      ]
     },
     "execution_count": 65,
     "metadata": {},
     "output_type": "execute_result"
    }
   ],
   "source": [
    "metric_df"
   ]
  }
 ],
 "metadata": {
  "kernelspec": {
   "display_name": "base",
   "language": "python",
   "name": "python3"
  },
  "language_info": {
   "codemirror_mode": {
    "name": "ipython",
    "version": 3
   },
   "file_extension": ".py",
   "mimetype": "text/x-python",
   "name": "python",
   "nbconvert_exporter": "python",
   "pygments_lexer": "ipython3",
   "version": "3.12.7"
  }
 },
 "nbformat": 4,
 "nbformat_minor": 5
}
